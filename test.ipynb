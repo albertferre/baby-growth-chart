{
 "cells": [
  {
   "cell_type": "code",
   "execution_count": 4,
   "metadata": {},
   "outputs": [],
   "source": [
    "import scipy.stats as stats\n",
    "\n",
    "def standard_normal_distribution(value, M, S, L, is_cumulative=True):\n",
    "    # Convert value, mean, and standard deviation to z-score\n",
    "    z_score = (((value / 1000) / M) ** L - 1) / (L * S)\n",
    "\n",
    "    # Calculate the standard normal distribution\n",
    "    if is_cumulative:\n",
    "        result = stats.norm.cdf(z_score)\n",
    "    else:\n",
    "        result = stats.norm.pdf(z_score)\n",
    "\n",
    "    return result"
   ]
  },
  {
   "cell_type": "code",
   "execution_count": 5,
   "metadata": {},
   "outputs": [
    {
     "data": {
      "text/plain": [
       "0.28088237263546767"
      ]
     },
     "execution_count": 5,
     "metadata": {},
     "output_type": "execute_result"
    }
   ],
   "source": [
    "standard_normal_distribution(6470, 6.9135,0.11367, 0.158 )\n",
    "                            #  0,158\t6,9135\t0,11367\n",
    "                            \n",
    "                            #  6.470 \n",
    "\n"
   ]
  }
 ],
 "metadata": {
  "kernelspec": {
   "display_name": "base",
   "language": "python",
   "name": "python3"
  },
  "language_info": {
   "codemirror_mode": {
    "name": "ipython",
    "version": 3
   },
   "file_extension": ".py",
   "mimetype": "text/x-python",
   "name": "python",
   "nbconvert_exporter": "python",
   "pygments_lexer": "ipython3",
   "version": "3.9.12"
  },
  "orig_nbformat": 4
 },
 "nbformat": 4,
 "nbformat_minor": 2
}
